{
 "cells": [
  {
   "cell_type": "code",
   "execution_count": null,
   "metadata": {},
   "outputs": [
    {
     "name": "stderr",
     "output_type": "stream",
     "text": [
      "ERROR:root:File `'Exsol.py'` not found.\n"
     ]
    },
    {
     "name": "stdout",
     "output_type": "stream",
     "text": [
      "Please enter a word in the sentence (x):.\n"
     ]
    }
   ],
   "source": [
    "%run Exsol.py\n",
    "\n",
    "word1 = input(\"Please enter a word in the sentence (x):\")\n",
    "x = \".\" \n",
    "y = \"!\" \n",
    "z = \"?\" \n",
    "while True: \n",
    "     if word1 == \"x\" \"y\" or \"z\":\n",
    "        break\n",
    "else:\n",
    "    pass\n",
    "              \n",
    "word2 = input(\"Please enter a word in the sentence (x):\")\n",
    "while True: \n",
    "     if word2 == \"x\" \"y\" or \"z\":\n",
    "        break\n",
    "else:\n",
    "    pass\n",
    "\n",
    "word3 = input(\"Please enter a word in the sentence (x):\")\n",
    "while True: \n",
    "     if word3 == \"x\" \"y\" or \"z\":\n",
    "        break\n",
    "else:\n",
    "    pass\n",
    "\n",
    "word4 = input(\"Please enter a word in the sentence (x):\")\n",
    "while True: \n",
    "     if word4 == \"x\" \"y\" or \"z\":\n",
    "        break\n",
    "else:\n",
    "    pass\n",
    "\n",
    "word5 = input(\"Please enter a word in the sentence (x):\")\n",
    "while True: \n",
    "     if word5 == \"x\" \"y\" or \"z\":\n",
    "        break\n",
    "else:\n",
    "    pass\n",
    "          \n",
    "print(word1 + \" \" + word2 + \" \" + word3 + \" \" + word4 + \" \" + word5)\n",
    "              "
   ]
  },
  {
   "cell_type": "code",
   "execution_count": null,
   "metadata": {},
   "outputs": [],
   "source": [
    "\n"
   ]
  },
  {
   "cell_type": "code",
   "execution_count": null,
   "metadata": {},
   "outputs": [],
   "source": []
  },
  {
   "cell_type": "code",
   "execution_count": null,
   "metadata": {},
   "outputs": [],
   "source": []
  }
 ],
 "metadata": {
  "kernelspec": {
   "display_name": "Python 3",
   "language": "python",
   "name": "python3"
  },
  "language_info": {
   "codemirror_mode": {
    "name": "ipython",
    "version": 3
   },
   "file_extension": ".py",
   "mimetype": "text/x-python",
   "name": "python",
   "nbconvert_exporter": "python",
   "pygments_lexer": "ipython3",
   "version": "3.7.1"
  }
 },
 "nbformat": 4,
 "nbformat_minor": 2
}
