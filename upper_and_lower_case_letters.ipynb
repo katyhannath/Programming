{
 "cells": [
  {
   "cell_type": "code",
   "execution_count": null,
   "metadata": {},
   "outputs": [],
   "source": [
    "#Question:\n",
    "#Write a program that accepts a sentence and calculate the number of upper case letters and lower case letters.\n",
    "#Suppose the following input is supplied to the program:\n",
    "#Hello world!\n",
    "#Then, the output should be:\n",
    "#UPPER CASE 1\n",
    "#LOWER CASE 9\n",
    "\n",
    "#Hints:\n",
    "#In case of input data being supplied to the question, it should be assumed to be a console input."
   ]
  },
  {
   "cell_type": "code",
   "execution_count": null,
   "metadata": {},
   "outputs": [],
   "source": [
    "a = input()\n",
    "d = {\"uppercase\":0, \"lowercase\":0}\n",
    "for i in a:\n",
    "    if i.isupper():\n",
    "        d[\"uppercase\"]+= 1\n",
    "    elif i.islower():\n",
    "        d[\"lowercase\"]+= 1\n",
    "    else:\n",
    "        pass\n",
    "print(\"uppercase\", d[\"uppercase\"])\n",
    "print(\"lowercase\", d[\"lowercase\"])"
   ]
  },
  {
   "cell_type": "code",
   "execution_count": null,
   "metadata": {},
   "outputs": [],
   "source": []
  }
 ],
 "metadata": {
  "kernelspec": {
   "display_name": "Python 3",
   "language": "python",
   "name": "python3"
  },
  "language_info": {
   "codemirror_mode": {
    "name": "ipython",
    "version": 3
   },
   "file_extension": ".py",
   "mimetype": "text/x-python",
   "name": "python",
   "nbconvert_exporter": "python",
   "pygments_lexer": "ipython3",
   "version": "3.7.1"
  }
 },
 "nbformat": 4,
 "nbformat_minor": 2
}
