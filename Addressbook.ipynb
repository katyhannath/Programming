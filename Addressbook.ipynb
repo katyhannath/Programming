{
 "cells": [
  {
   "cell_type": "code",
   "execution_count": 17,
   "metadata": {},
   "outputs": [
    {
     "name": "stdout",
     "output_type": "stream",
     "text": [
      "KATY\n",
      "('ARRAN', 'PROSPECT ROAD', 'YO12 7LF')\n",
      "('STEPHANIE', 'LONDESBOROUGH ROAD', 'YO12 5JZ')\n"
     ]
    }
   ],
   "source": [
    "class Person(object):\n",
    "    def __init__(self, name):\n",
    "        self.name = name\n",
    "        \n",
    "    def get_details(self):\n",
    "        return self.name.upper()\n",
    "        \n",
    "class Family(Person):\n",
    "    def __init__(self, name, address, postcode):\n",
    "        Person.__init__(self, name)\n",
    "        self.address = address\n",
    "        self.postcode = postcode\n",
    "    \n",
    "    def get_details(self):\n",
    "        return (self.name.upper(), self.address.upper(), self.postcode.upper())\n",
    "    \n",
    "class Friends(Person):\n",
    "    def __init__(self, name, address, postcode):\n",
    "        Person.__init__(self, name)\n",
    "        self.address = address\n",
    "        self.postcode = postcode\n",
    "        \n",
    "    def get_details(self):\n",
    "        return (self.name.upper(), self.address.upper(), self.postcode.upper())\n",
    "    \n",
    "Person1 = Person('Katy')\n",
    "Family1 = Family('Arran', 'Prospect Road', 'YO12 7LF' )\n",
    "Friends1 = Friends('Stephanie', 'Londesborough Road', 'YO12 5JZ')\n",
    "\n",
    "print(Person1.get_details())\n",
    "print(Family1.get_details())\n",
    "print(Friends1.get_details())\n"
   ]
  },
  {
   "cell_type": "code",
   "execution_count": null,
   "metadata": {},
   "outputs": [],
   "source": []
  }
 ],
 "metadata": {
  "kernelspec": {
   "display_name": "Python 3",
   "language": "python",
   "name": "python3"
  },
  "language_info": {
   "codemirror_mode": {
    "name": "ipython",
    "version": 3
   },
   "file_extension": ".py",
   "mimetype": "text/x-python",
   "name": "python",
   "nbconvert_exporter": "python",
   "pygments_lexer": "ipython3",
   "version": "3.7.1"
  }
 },
 "nbformat": 4,
 "nbformat_minor": 2
}
