{
 "cells": [
  {
   "cell_type": "code",
   "execution_count": null,
   "metadata": {},
   "outputs": [],
   "source": [
    "#Question:\n",
    "#Write a program that accepts a sequence of whitespace separated words as input and prints the words after removing all duplicate words and sorting them alphanumerically.\n",
    "#Suppose the following input is supplied to the program:\n",
    "#hello world and practice makes perfect and hello world again\n",
    "#Then, the output should be:\n",
    "#again and hello makes perfect practice world\n",
    "\n",
    "#Hints:\n",
    "#In case of input data being supplied to the question, it should be assumed to be a console input.\n",
    "#We use set container to remove duplicated data automatically and then use sorted() to sort the data."
   ]
  },
  {
   "cell_type": "code",
   "execution_count": 16,
   "metadata": {},
   "outputs": [
    {
     "name": "stdout",
     "output_type": "stream",
     "text": [
      "Enter a whitespace seprated string : katy hanath steph swangoh\n",
      "hanath katy steph swangoh\n"
     ]
    }
   ],
   "source": [
    "str = input(\"Enter words seperated by a whitespace : \")\n",
    "\n",
    "if len(str)>0:\n",
    "    string=\"\"\n",
    "    lists = str.split(\" \")\n",
    "    lists = sorted(lists)\n",
    "    for w in lists:\n",
    "        if string.count(w)==0:\n",
    "            string +=w\n",
    "            string +=\" \"\n",
    "    string = string[:-1]\n",
    "    print(string)"
   ]
  },
  {
   "cell_type": "code",
   "execution_count": null,
   "metadata": {},
   "outputs": [],
   "source": []
  }
 ],
 "metadata": {
  "kernelspec": {
   "display_name": "Python 3",
   "language": "python",
   "name": "python3"
  },
  "language_info": {
   "codemirror_mode": {
    "name": "ipython",
    "version": 3
   },
   "file_extension": ".py",
   "mimetype": "text/x-python",
   "name": "python",
   "nbconvert_exporter": "python",
   "pygments_lexer": "ipython3",
   "version": "3.7.1"
  }
 },
 "nbformat": 4,
 "nbformat_minor": 2
}
