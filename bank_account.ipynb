{
 "cells": [
  {
   "cell_type": "code",
   "execution_count": null,
   "metadata": {},
   "outputs": [],
   "source": [
    "#Question:\n",
    "#Write a program that computes the net amount of a bank account based a transaction log from console input. The transaction log format is shown as following:\n",
    "#D 100\n",
    "#W 200\n",
    "\n",
    "#D means deposit while W means withdrawal.\n",
    "#Suppose the following input is supplied to the program:\n",
    "#D 300\n",
    "#D 300\n",
    "#W 200\n",
    "#D 100\n",
    "#Then, the output should be:\n",
    "#500\n",
    "\n",
    "#Hints:\n",
    "#In case of input data being supplied to the question, it should be assumed to be a console input."
   ]
  },
  {
   "cell_type": "code",
   "execution_count": null,
   "metadata": {},
   "outputs": [],
   "source": [
    "net = 0\n",
    "\n",
    "while True:\n",
    "    money = input(\" \").split()\n",
    "    if not money:\n",
    "        break;\n",
    "        \n",
    "    amount = int(money[1])\n",
    "    if money[0] == 'D':\n",
    "        net += amount\n",
    "    elif money[0] == 'W':\n",
    "        net -= amount\n",
    "\n",
    "print(net)\n",
    "            "
   ]
  },
  {
   "cell_type": "code",
   "execution_count": null,
   "metadata": {},
   "outputs": [],
   "source": []
  }
 ],
 "metadata": {
  "kernelspec": {
   "display_name": "Python 3",
   "language": "python",
   "name": "python3"
  },
  "language_info": {
   "codemirror_mode": {
    "name": "ipython",
    "version": 3
   },
   "file_extension": ".py",
   "mimetype": "text/x-python",
   "name": "python",
   "nbconvert_exporter": "python",
   "pygments_lexer": "ipython3",
   "version": "3.7.1"
  }
 },
 "nbformat": 4,
 "nbformat_minor": 2
}
