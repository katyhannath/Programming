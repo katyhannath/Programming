{
 "cells": [
  {
   "cell_type": "code",
   "execution_count": null,
   "metadata": {},
   "outputs": [],
   "source": [
    "#Question\n",
    "#Write a program that accepts sequence of lines as input and prints the lines after making all characters in the sentence capitalized.\n",
    "#Suppose the following input is supplied to the program:\n",
    "#Hello world\n",
    "#Practice makes perfect\n",
    "#Then, the output should be:\n",
    "#HELLO WORLD\n",
    "#PRACTICE MAKES PERFECT\n",
    "\n",
    "#Hints:\n",
    "#In case of input data being supplied to the question, it should be assumed to be a console input."
   ]
  },
  {
   "cell_type": "code",
   "execution_count": 69,
   "metadata": {},
   "outputs": [
    {
     "name": "stdout",
     "output_type": "stream",
     "text": [
      "katy\n",
      "hannath\n",
      "\n",
      "KATY\n",
      "HANNATH\n"
     ]
    }
   ],
   "source": [
    "lists = []\n",
    "while True:\n",
    "    words = input()\n",
    "    if words:\n",
    "        lists.append(words.upper())\n",
    "    else:\n",
    "        break;\n",
    "        \n",
    "for words in lists:\n",
    "    print(words)"
   ]
  },
  {
   "cell_type": "code",
   "execution_count": 45,
   "metadata": {},
   "outputs": [
    {
     "name": "stdout",
     "output_type": "stream",
     "text": [
      "\n"
     ]
    }
   ],
   "source": []
  },
  {
   "cell_type": "code",
   "execution_count": null,
   "metadata": {},
   "outputs": [],
   "source": []
  },
  {
   "cell_type": "code",
   "execution_count": null,
   "metadata": {},
   "outputs": [],
   "source": []
  }
 ],
 "metadata": {
  "kernelspec": {
   "display_name": "Python 3",
   "language": "python",
   "name": "python3"
  },
  "language_info": {
   "codemirror_mode": {
    "name": "ipython",
    "version": 3
   },
   "file_extension": ".py",
   "mimetype": "text/x-python",
   "name": "python",
   "nbconvert_exporter": "python",
   "pygments_lexer": "ipython3",
   "version": "3.7.1"
  }
 },
 "nbformat": 4,
 "nbformat_minor": 2
}
