{
 "cells": [
  {
   "cell_type": "code",
   "execution_count": null,
   "metadata": {},
   "outputs": [],
   "source": [
    "#Write a program that computes the value of a+aa+aaa+aaaa with a given digit as the value of a.\n",
    "#Suppose the following input is supplied to the program:\n",
    "#9\n",
    "#Then, the output should be:\n",
    "#11106\n",
    "\n",
    "#Hints:\n",
    "#In case of input data being supplied to the question, it should be assumed to be a console input."
   ]
  },
  {
   "cell_type": "code",
   "execution_count": 3,
   "metadata": {},
   "outputs": [
    {
     "name": "stdout",
     "output_type": "stream",
     "text": [
      "Please enter a number!1\n",
      "1\n",
      "11\n",
      "111\n",
      "1111\n",
      "1234\n"
     ]
    }
   ],
   "source": [
    "a = input(\"Please enter a number!\")\n",
    "n1 = int( \"%s\" % a)\n",
    "print(n1)\n",
    "n2 = int(\"%s%s\" % (a,a))\n",
    "print(n2)\n",
    "n3 = int(\"%s%s%s\" % (a,a,a))\n",
    "print(n3)\n",
    "n4 = int(\"%s%s%s%s\" % (a,a,a,a))\n",
    "print(n4)\n",
    "print(n1+n2+n3+n4)"
   ]
  },
  {
   "cell_type": "code",
   "execution_count": null,
   "metadata": {},
   "outputs": [],
   "source": []
  }
 ],
 "metadata": {
  "kernelspec": {
   "display_name": "Python 3",
   "language": "python",
   "name": "python3"
  },
  "language_info": {
   "codemirror_mode": {
    "name": "ipython",
    "version": 3
   },
   "file_extension": ".py",
   "mimetype": "text/x-python",
   "name": "python",
   "nbconvert_exporter": "python",
   "pygments_lexer": "ipython3",
   "version": "3.7.1"
  }
 },
 "nbformat": 4,
 "nbformat_minor": 2
}
