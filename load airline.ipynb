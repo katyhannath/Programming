{
 "cells": [
  {
   "cell_type": "code",
   "execution_count": 5,
   "metadata": {},
   "outputs": [
    {
     "name": "stdout",
     "output_type": "stream",
     "text": [
      "Flight\t\tDestination\t\tGate\tTime\t\n",
      "Southwest\t145\tWashington, D.C.\t1\t6.0\n",
      "United\t302\tLondon-Heathrow\t5\t6.5\n",
      "United\t46\tLos Angeles\t5\t6.5\n",
      "United\t31\tDulles\t1\t7.1\n",
      "Aeroflot\t34\tMoscow\t5\t9.0\n",
      "Southwest\t146\tChicago-Midway\t1\t9.6\n",
      "American\t1\tNew York City\t12\t11.3\n",
      "Southwest\t23\tSanta Barbara\t6\t12.5\n",
      "United\t2\tLos Angeles\t10\t12.5\n",
      "USAirways\t8\tMiami\t20\t13.1\n",
      "SpamAir\t1\tAustin, Minnesota\t42\t14.4\n",
      "Southwest\t59\tLos Angeles\t11\t14.5\n",
      "United\t2032\tMiami\t21\t15.1\n"
     ]
    }
   ],
   "source": [
    "# %load airline.py\n",
    "airports = {\"DCA\": \"Washington, D.C.\", \"IAD\": \"Dulles\", \"LHR\": \"London-Heathrow\", \\\n",
    "            \"SVO\": \"Moscow\", \"CDA\": \"Chicago-Midway\", \"SBA\": \"Santa Barbara\", \"LAX\": \"Los Angeles\",\\\n",
    "            \"JFK\": \"New York City\", \"MIA\": \"Miami\", \"AUM\": \"Austin, Minnesota\"}\n",
    "\n",
    "\n",
    "flights = [(\"Southwest\",145,\"DCA\",1,6.00),(\"United\",31,\"IAD\",1,7.1),(\"United\",302,\"LHR\",5,6.5),\\\n",
    "          (\"Aeroflot\",34,\"SVO\",5,9.00),(\"Southwest\",146,\"CDA\",1,9.60), (\"United\",46,\"LAX\",5,6.5),\\\n",
    "           (\"Southwest\",23,\"SBA\",6,12.5),(\"United\",2,\"LAX\",10,12.5),(\"Southwest\",59,\"LAX\",11,14.5),\\\n",
    "          (\"American\", 1,\"JFK\",12,11.3),(\"USAirways\", 8,\"MIA\",20,13.1),(\"United\",2032,\"MIA\",21,15.1),\\\n",
    "           (\"SpamAir\",1,\"AUM\",42,14.4)]\n",
    "\n",
    "#from operator import itemgetter\n",
    "\n",
    "flights=sorted(flights,key=itemgetter(4))\n",
    "print(\"Flight\\t\\tDestination\\t\\tGate\\tTime\\t\")\n",
    "for plane in flights:\n",
    "    print(plane[0]+\"\\t\"+str(plane[1])+\"\\t\"+airports[plane[2]]+\"\\t\"+str(plane[3])+\"\\t\"+str(plane[4]))\n",
    "      "
   ]
  },
  {
   "cell_type": "code",
   "execution_count": null,
   "metadata": {},
   "outputs": [],
   "source": []
  },
  {
   "cell_type": "code",
   "execution_count": null,
   "metadata": {},
   "outputs": [],
   "source": []
  }
 ],
 "metadata": {
  "kernelspec": {
   "display_name": "Python 3",
   "language": "python",
   "name": "python3"
  },
  "language_info": {
   "codemirror_mode": {
    "name": "ipython",
    "version": 3
   },
   "file_extension": ".py",
   "mimetype": "text/x-python",
   "name": "python",
   "nbconvert_exporter": "python",
   "pygments_lexer": "ipython3",
   "version": "3.7.1"
  }
 },
 "nbformat": 4,
 "nbformat_minor": 2
}
