{
 "cells": [
  {
   "cell_type": "code",
   "execution_count": null,
   "metadata": {},
   "outputs": [],
   "source": [
    "#Question:\n",
    "#Write a program that accepts a sentence and calculate the number of letters and digits.\n",
    "#Suppose the following input is supplied to the program:\n",
    "#hello world! 123\n",
    "#Then, the output should be:\n",
    "#LETTERS 10\n",
    "#DIGITS 3\n",
    "\n",
    "#Hints:\n",
    "#In case of input data being supplied to the question, it should be assumed to be a console input."
   ]
  },
  {
   "cell_type": "code",
   "execution_count": 22,
   "metadata": {},
   "outputs": [
    {
     "name": "stdout",
     "output_type": "stream",
     "text": [
      "1 2 3 katy\n",
      "Letters =  4\n",
      "Digits =  3\n"
     ]
    }
   ],
   "source": [
    "a = input()\n",
    "letters = digit = 0\n",
    "for i in a:\n",
    "    if i.isnumeric():\n",
    "        digit = digit + 1 \n",
    "    elif i.isalpha():\n",
    "        letters = letters + 1\n",
    "    else:\n",
    "        pass\n",
    "print(\"Letters = \", letters)\n",
    "print(\"Digits = \", digit)"
   ]
  },
  {
   "cell_type": "code",
   "execution_count": null,
   "metadata": {},
   "outputs": [],
   "source": []
  }
 ],
 "metadata": {
  "kernelspec": {
   "display_name": "Python 3",
   "language": "python",
   "name": "python3"
  },
  "language_info": {
   "codemirror_mode": {
    "name": "ipython",
    "version": 3
   },
   "file_extension": ".py",
   "mimetype": "text/x-python",
   "name": "python",
   "nbconvert_exporter": "python",
   "pygments_lexer": "ipython3",
   "version": "3.7.1"
  }
 },
 "nbformat": 4,
 "nbformat_minor": 2
}
