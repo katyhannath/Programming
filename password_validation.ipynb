{
 "cells": [
  {
   "cell_type": "code",
   "execution_count": null,
   "metadata": {},
   "outputs": [],
   "source": [
    "special_str = (\"#$@\")\n",
    "accepted = []\n",
    "passwords = input(\"Please create a password:\").split(',')\n",
    "for password in passwords:\n",
    "    lower = 0\n",
    "    capital = 0\n",
    "    numbers = 0\n",
    "    specialcharacters = 0\n",
    "    for char in password:\n",
    "        if char.islower():\n",
    "            lower += 1\n",
    "        elif char.isupper():\n",
    "            capital += 1\n",
    "        elif char.isdigit():\n",
    "            numbers += 1\n",
    "        elif special_str.find(char) != -1:\n",
    "            specialcharacters += 1\n",
    "    if lower >= 1 and capital >= 1 and numbers >= 1 and specialcharacters >= 1 and len(password) in range (6,13):\n",
    "        accepted.append(password)\n",
    "print(\",\".join(accepted))\n",
    "        "
   ]
  },
  {
   "cell_type": "code",
   "execution_count": null,
   "metadata": {},
   "outputs": [],
   "source": []
  }
 ],
 "metadata": {
  "kernelspec": {
   "display_name": "Python 3",
   "language": "python",
   "name": "python3"
  },
  "language_info": {
   "codemirror_mode": {
    "name": "ipython",
    "version": 3
   },
   "file_extension": ".py",
   "mimetype": "text/x-python",
   "name": "python",
   "nbconvert_exporter": "python",
   "pygments_lexer": "ipython3",
   "version": "3.7.1"
  }
 },
 "nbformat": 4,
 "nbformat_minor": 2
}
