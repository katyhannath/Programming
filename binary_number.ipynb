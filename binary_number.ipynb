{
 "cells": [
  {
   "cell_type": "code",
   "execution_count": null,
   "metadata": {},
   "outputs": [],
   "source": [
    "#items = []\n",
    "#2\tnum = [x for x in input().split(',')]\n",
    "#3\tfor p in num:\n",
    "#4\t    x = int(p, 2)\n",
    "#5\t    if not x%5:\n",
    "#6\t        items.append(p)\n",
    "#7\tprint(','.join(items))"
   ]
  },
  {
   "cell_type": "code",
   "execution_count": null,
   "metadata": {},
   "outputs": [],
   "source": [
    "#x = list(range(2000,3200))\n",
    "#counter=0\n",
    "#while True:\n",
    "    #if (counter>=len(x)):\n",
    "       # print (\"end\")\n",
    "     #   break\n",
    " #   numberdisvisableby7 = x[counter]\n",
    "  #  counter += 1\n",
    "  #  if (numberdisvisableby7%7 == 0 and numberdisvisableby7%5 !=0):\n",
    "    #    print(numberdisvisableby7,end=\", \")"
   ]
  },
  {
   "cell_type": "code",
   "execution_count": null,
   "metadata": {},
   "outputs": [],
   "source": [
    "#Question:\n",
    "#Write a program which accepts a sequence of comma separated 4 digit binary numbers as its input and then check whether they are divisible by 5 or not. The numbers that are divisible by 5 are to be printed in a comma separated sequence.\n",
    "#Example:\n",
    "#0100,0011,1010,1001\n",
    "#Then the output should be:\n",
    "#1010\n",
    "#Notes: Assume the data is input by console.\n",
    "\n",
    "#Hints:\n",
    "#In case of input data being supplied to the question, it should be assumed to be a console input."
   ]
  },
  {
   "cell_type": "code",
   "execution_count": 36,
   "metadata": {},
   "outputs": [
    {
     "name": "stdout",
     "output_type": "stream",
     "text": [
      "Please input 4 numbers:0100, 0011, 1010, 1001\n",
      " 1010\n"
     ]
    }
   ],
   "source": [
    "x = []\n",
    "numbers = input( \"Please input 4 numbers:\")\n",
    "y = numbers.split(',')\n",
    "for z in y:\n",
    "    intz = int(z, 2)\n",
    "    if not intz%5:\n",
    "         x.append(z)\n",
    "            \n",
    "print(','.join(x))\n"
   ]
  },
  {
   "cell_type": "code",
   "execution_count": null,
   "metadata": {},
   "outputs": [],
   "source": []
  }
 ],
 "metadata": {
  "kernelspec": {
   "display_name": "Python 3",
   "language": "python",
   "name": "python3"
  },
  "language_info": {
   "codemirror_mode": {
    "name": "ipython",
    "version": 3
   },
   "file_extension": ".py",
   "mimetype": "text/x-python",
   "name": "python",
   "nbconvert_exporter": "python",
   "pygments_lexer": "ipython3",
   "version": "3.7.1"
  }
 },
 "nbformat": 4,
 "nbformat_minor": 2
}
